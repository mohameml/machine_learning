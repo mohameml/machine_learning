{
 "cells": [
  {
   "cell_type": "markdown",
   "metadata": {},
   "source": [
    "# a Toy problem"
   ]
  },
  {
   "cell_type": "markdown",
   "metadata": {},
   "source": [
    "We consider the first illustrative example of the original paper\n",
    "\n",
    "    Candes, E., Tao, T. \"The Dantzig selector: Statistical estimation when p is much larger than n\". \n",
    "    The Annals of Statistics, 2007"
   ]
  },
  {
   "cell_type": "markdown",
   "metadata": {},
   "source": [
    "In this first example, the design matrix $X$ has $m = 72$ rows and $n = 256$ columns, with independent Gaussian entries (and then normalized so that the columns have unit-norm). We then select $\\theta$ with $S := |\\{i : \\theta_i \\neq 0\\}| = 8$, and form $y = X\\theta + \\xi$, where the $\\xi_i$’s are i.i.d. $\\mathcal{N}(0, \\sigma^2 )$. The noise level is adjusted so that \n",
    "$$ \\sigma = \\frac{1}{3} \\sqrt{\\frac{S}{n}} .$$"
   ]
  },
  {
   "cell_type": "markdown",
   "metadata": {},
   "source": [
    "### Problem"
   ]
  },
  {
   "cell_type": "code",
   "execution_count": 3,
   "metadata": {
    "collapsed": false,
    "jupyter": {
     "outputs_hidden": false
    }
   },
   "outputs": [],
   "source": [
    "import numpy as np\n",
    "\n",
    "# Parameters\n",
    "m = 72\n",
    "n = 256\n",
    "\n",
    "S = 8\n",
    "\n",
    "sigma = 1/3.0 * np.sqrt(S/float(m))\n",
    "\n",
    "# X creation\n",
    "X = np.random.randn(m, n)\n",
    "\n",
    "n_col = np.linalg.norm(X, axis=0)\n",
    "X = np.dot(X,np.diag(1/n_col))    # Normalization per column [Get rid of it for the \"To go further\" part!]\n",
    "\n",
    "# theta creation\n",
    "theta = np.zeros(n)\n",
    "non_null = np.random.choice(n, S)\n",
    "theta[non_null] = np.random.randn(S)\n",
    "\n",
    "\n",
    "# y creation\n",
    "y = np.dot(X,theta) + sigma*np.random.randn(m)\n"
   ]
  },
  {
   "cell_type": "code",
   "execution_count": null,
   "metadata": {},
   "outputs": [],
   "source": []
  }
 ],
 "metadata": {
  "kernelspec": {
   "display_name": "Python 3 (ipykernel)",
   "language": "python",
   "name": "python3"
  },
  "language_info": {
   "codemirror_mode": {
    "name": "ipython",
    "version": 3
   },
   "file_extension": ".py",
   "mimetype": "text/x-python",
   "name": "python",
   "nbconvert_exporter": "python",
   "pygments_lexer": "ipython3",
   "version": "3.9.13"
  }
 },
 "nbformat": 4,
 "nbformat_minor": 4
}
