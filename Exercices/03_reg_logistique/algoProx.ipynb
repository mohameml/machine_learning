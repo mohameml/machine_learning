{
 "cells": [
  {
   "cell_type": "markdown",
   "metadata": {},
   "source": [
    "# Proximal algorithms\n",
    "\n",
    "In this notebook, we code our proximal optimization algorithms."
   ]
  },
  {
   "cell_type": "markdown",
   "metadata": {},
   "source": [
    "# 1. Proximal Gradient algorithm\n",
    "\n",
    "For minimizing a function $F:\\mathbb{R}^n \\to \\mathbb{R}$ equal to $f+g$ where $f$ is differentiable and the $\\mathbf{prox}$ of $g$ is known, given:\n",
    "* the function to minimize `F`\n",
    "* a 1st order oracle for $f$ `f_grad` \n",
    "* a proximity operator for $g$ `g_prox` \n",
    "* an initialization point `x0`\n",
    "* the sought precision `PREC` \n",
    "* a maximal number of iterations `ITE_MAX` \n",
    "* a display boolean variable `PRINT` \n",
    "\n",
    "these algorithms perform iterations of the form\n",
    "$$ x_{k+1} = \\mathbf{prox}_{\\gamma g}\\left( x_k - \\gamma \\nabla f(x_k) \\right) $$\n",
    "where $\\gamma$ is a stepsize to choose."
   ]
  },
  {
   "cell_type": "markdown",
   "metadata": {},
   "source": [
    "\n",
    "\n",
    "> Fill the function below with the proximal gradient algorithm.\n",
    "\n",
    "> How would you implement the precision stopping criteria."
   ]
  },
  {
   "cell_type": "code",
   "execution_count": null,
   "metadata": {
    "tags": []
   },
   "outputs": [],
   "source": [
    "import numpy as np\n",
    "import timeit\n",
    "\n",
    "def proximal_gradient_algorithm(F , f_grad , g_prox , x0 , step , PREC , ITE_MAX , PRINT ):\n",
    "    x = np.copy(x0)\n",
    "    x_tab = np.copy(x)\n",
    "    if PRINT:\n",
    "        print(\"------------------------------------\\n Proximal gradient algorithm\\n------------------------------------\\nSTART    -- stepsize = {:0}\".format(step))\n",
    "    t_s =  timeit.default_timer()\n",
    "    g = f_grad(x)\n",
    "    stop = PREC*np.linalg.norm(g)\n",
    "    for k in range(ITE_MAX):\n",
    "        grad = f_grad(x)\n",
    "        prev_x = x\n",
    "        ####### \n",
    "        # FILL HERE\n",
    "        x_tab = np.vstack((x_tab,x))\n",
    "        ####### \n",
    "        \n",
    "        ##########################################################\n",
    "        #######  Why must the following stopping criteria be changed ? Propose a correct stopping rule\n",
    "        if np.linalg.norm(grad) < stop:\n",
    "            break\n",
    "        ###############################################\n",
    "\n",
    "        # To complete\n",
    "\n",
    "    t_e =  timeit.default_timer()\n",
    "    if PRINT:\n",
    "        print(\"FINISHED -- {:d} iterations / {:.6f}s -- final value: {:f}\\n\\n\".format(k,t_e-t_s,F(x)))\n",
    "    return x,x_tab"
   ]
  },
  {
   "cell_type": "code",
   "execution_count": null,
   "metadata": {},
   "outputs": [],
   "source": []
  }
 ],
 "metadata": {
  "kernelspec": {
   "display_name": "Python 3 (ipykernel)",
   "language": "python",
   "name": "python3"
  },
  "language_info": {
   "codemirror_mode": {
    "name": "ipython",
    "version": 3
   },
   "file_extension": ".py",
   "mimetype": "text/x-python",
   "name": "python",
   "nbconvert_exporter": "python",
   "pygments_lexer": "ipython3",
   "version": "3.11.5"
  }
 },
 "nbformat": 4,
 "nbformat_minor": 4
}
