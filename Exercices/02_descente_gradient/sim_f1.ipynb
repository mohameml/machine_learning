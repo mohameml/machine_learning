{
 "cells": [
  {
   "cell_type": "markdown",
   "metadata": {},
   "source": [
    "# Simulateur de $f_1$\n",
    "\n",
    "\n",
    "$$\\begin{array}{rrcll}\n",
    "f: & \\mathbb{R}^n & \\to &\\mathbb{R}\\\\\n",
    "& x & \\mapsto  & \\sum_{k=1}^n k x_k^2\n",
    "\\end{array}$$\n"
   ]
  },
  {
   "cell_type": "code",
   "execution_count": null,
   "metadata": {},
   "outputs": [],
   "source": []
  },
  {
   "cell_type": "markdown",
   "metadata": {},
   "source": [
    "### Paramètres"
   ]
  },
  {
   "cell_type": "code",
   "execution_count": 14,
   "metadata": {
    "collapsed": false,
    "jupyter": {
     "outputs_hidden": false
    }
   },
   "outputs": [],
   "source": [
    "##### Size parameters\n",
    "n = 2\n",
    "####\n",
    "\n",
    "##### Plot parameters f\n",
    "x1_min = -5\n",
    "x1_max = 5\n",
    "x2_min = -5\n",
    "x2_max = 5\n",
    "nb_points = 200\n",
    "vmin = 0\n",
    "vmax = 30\n",
    "levels = [0.25,1,2,5,10,15]\n",
    "title = 'f1'\n",
    "####"
   ]
  },
  {
   "cell_type": "markdown",
   "metadata": {},
   "source": [
    "### Simulateur\n"
   ]
  },
  {
   "cell_type": "code",
   "execution_count": 15,
   "metadata": {
    "tags": []
   },
   "outputs": [],
   "source": [
    "import numpy as np\n",
    "\n",
    "def sim(x):\n",
    "    n = len(x)\n",
    "    \n",
    "    k = np.arange(1, n+1)\n",
    "    assert k.shape == (n,)\n",
    "    \n",
    "    f = np.dot(k, x**2)\n",
    "    \n",
    "    g = 2 * k * x\n",
    "    assert g.shape == (n,)\n",
    "    \n",
    "    return f,g\n"
   ]
  },
  {
   "cell_type": "markdown",
   "metadata": {},
   "source": [
    "# Simulateur de la fonction :\n",
    "\n",
    "$$f_1(x) = \\sum_{k=1}^n k x_k^2$$"
   ]
  },
  {
   "cell_type": "code",
   "execution_count": 16,
   "metadata": {},
   "outputs": [],
   "source": [
    "import numpy as np \n",
    "def sim_f1(x) :\n",
    "    \"\"\"\n",
    "    L'objetcif de ce simulateur est de retourner l'image de x par\n",
    "    f en tout point de R^n : \n",
    "    \"\"\" \n",
    "    if  not isinstance(x  , np.ndarray): \n",
    "        raise ValueError(\"x doit étre de type np.ndarry \") \n",
    "\n",
    "    n = len(x)\n",
    "    vec = np.arange(1 , n+1 , 1)\n",
    "    assert vec.shape == (n ,)\n",
    "    f1_x = np.dot(vec  , x**2)\n",
    "    \n",
    "    return f1_x\n",
    "\n"
   ]
  },
  {
   "cell_type": "code",
   "execution_count": 17,
   "metadata": {},
   "outputs": [],
   "source": [
    "# Test de f1(x) :\n",
    "# x = np.array([1 , 2 , 3])\n",
    "# sim_f1(x)"
   ]
  },
  {
   "cell_type": "markdown",
   "metadata": {},
   "source": [
    "# simulation du grdaient du f1 "
   ]
  },
  {
   "cell_type": "code",
   "execution_count": 18,
   "metadata": {},
   "outputs": [],
   "source": [
    "def sim_gradient_f1(x) :\n",
    "    \"\"\"\n",
    "    l'objectif de cette fonction est de returner la valeur du grad(f)(x) en tout point \n",
    "    x de R^n\n",
    "\n",
    "    \"\"\"\n",
    "    if  not isinstance(x  , np.ndarray): \n",
    "        raise ValueError(\"x doit étre de type np.ndarry \") \n",
    "    n = len(x)\n",
    "    vec = np.arange(1 , n+1 , 1)\n",
    "    assert vec.shape == (n ,)\n",
    "    grad_f_x = 2 * vec * x \n",
    "    assert grad_f_x.shape == (n , )\n",
    "\n",
    "    return grad_f_x\n",
    "\n",
    "\n",
    "\n"
   ]
  },
  {
   "cell_type": "code",
   "execution_count": 19,
   "metadata": {},
   "outputs": [],
   "source": [
    "# Test de la fonction sim_gradient_f1 \n",
    "\n",
    "# x = np.array([1 , 2 , 3])\n",
    "# grad_f_x = sim_gradient_f1(x) \n",
    "# print(grad_f_x)\n",
    "\n",
    "\n",
    "\n"
   ]
  },
  {
   "cell_type": "markdown",
   "metadata": {},
   "source": [
    "# Simulateur de f1"
   ]
  },
  {
   "cell_type": "code",
   "execution_count": 20,
   "metadata": {},
   "outputs": [],
   "source": [
    "def sim_2(x) : \n",
    "    f = sim_f1(x)\n",
    "    g = sim_gradient_f1(x)\n",
    "\n",
    "    return f,g "
   ]
  },
  {
   "cell_type": "code",
   "execution_count": 21,
   "metadata": {},
   "outputs": [],
   "source": [
    "# Test de sim_2 de f :\n",
    "\n",
    "# x =np.array([1 , 2, 3])\n",
    "# f ,g = sim_2(x)\n",
    "# print(f)\n",
    "# print(g)"
   ]
  },
  {
   "cell_type": "markdown",
   "metadata": {},
   "source": [
    "# CalCul de la matrice Hessiene du f1 "
   ]
  },
  {
   "cell_type": "code",
   "execution_count": 22,
   "metadata": {},
   "outputs": [],
   "source": [
    "import numpy as np\n",
    "def hessien_f1(x) :\n",
    "    \"\"\"\n",
    "    Entrée : x doit étre de type ndarry \n",
    "    Sortie : la valeur du hessien de f en x \n",
    "    \"\"\"\n",
    "    if  not isinstance(x  , np.ndarray): \n",
    "        raise ValueError(\"x doit étre de type np.ndarry \") \n",
    "    n = len(x)\n",
    "\n",
    "    hessien_f_x = np.diag(np.arange(1 , n+1 , 1))\n",
    "\n",
    "    return hessien_f_x\n",
    "\n",
    "\n"
   ]
  },
  {
   "cell_type": "code",
   "execution_count": 23,
   "metadata": {},
   "outputs": [],
   "source": [
    "# Test de hessien de f en x :\n",
    "\n",
    "# x = np.array([1 , 0 , 3.5 , 4])\n",
    "\n",
    "# H = hessien_f1(x)\n",
    "# print(H)"
   ]
  },
  {
   "cell_type": "markdown",
   "metadata": {},
   "source": [
    "# Calcul de l'inverse de la matrice Hessien :"
   ]
  },
  {
   "cell_type": "code",
   "execution_count": 25,
   "metadata": {},
   "outputs": [],
   "source": [
    "\n",
    "def inverse_hessien_f1(x) :\n",
    "\n",
    "    return np.linalg.inv(hessien_f1(x))"
   ]
  }
 ],
 "metadata": {
  "kernelspec": {
   "display_name": "Python 3 (ipykernel)",
   "language": "python",
   "name": "python3"
  },
  "language_info": {
   "codemirror_mode": {
    "name": "ipython",
    "version": 3
   },
   "file_extension": ".py",
   "mimetype": "text/x-python",
   "name": "python",
   "nbconvert_exporter": "python",
   "pygments_lexer": "ipython3",
   "version": "3.10.12"
  }
 },
 "nbformat": 4,
 "nbformat_minor": 4
}
